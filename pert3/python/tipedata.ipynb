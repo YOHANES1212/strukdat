{
 "cells": [
  {
   "cell_type": "markdown",
   "id": "bee0ed10",
   "metadata": {},
   "source": [
    "INT"
   ]
  },
  {
   "cell_type": "code",
   "execution_count": 6,
   "id": "afb5c646",
   "metadata": {},
   "outputs": [
    {
     "name": "stdout",
     "output_type": "stream",
     "text": [
      "1\n",
      "<class 'int'>\n"
     ]
    }
   ],
   "source": [
    "a = 1\n",
    "print(a)\n",
    "print(type(a))"
   ]
  },
  {
   "cell_type": "markdown",
   "id": "34d89680",
   "metadata": {},
   "source": [
    "STRING"
   ]
  },
  {
   "cell_type": "code",
   "execution_count": 7,
   "id": "c0de5bdd",
   "metadata": {},
   "outputs": [
    {
     "name": "stdout",
     "output_type": "stream",
     "text": [
      "hello\n",
      "<class 'str'>\n"
     ]
    }
   ],
   "source": [
    "b = \"hello\"\n",
    "print(b)\n",
    "print(type(b))"
   ]
  },
  {
   "cell_type": "markdown",
   "id": "101e1708",
   "metadata": {},
   "source": [
    "FLOAT"
   ]
  },
  {
   "cell_type": "code",
   "execution_count": 5,
   "id": "06c0fae7",
   "metadata": {},
   "outputs": [
    {
     "name": "stdout",
     "output_type": "stream",
     "text": [
      "10.5\n",
      "<class 'float'>\n"
     ]
    }
   ],
   "source": [
    "c = 10.5\n",
    "print(c)\n",
    "print(type(c))"
   ]
  },
  {
   "cell_type": "markdown",
   "id": "9064eef4",
   "metadata": {},
   "source": [
    "COMPLEX"
   ]
  },
  {
   "cell_type": "code",
   "execution_count": 8,
   "id": "6e31375c",
   "metadata": {},
   "outputs": [
    {
     "name": "stdout",
     "output_type": "stream",
     "text": [
      "1j\n",
      "<class 'complex'>\n"
     ]
    }
   ],
   "source": [
    "d = 1j\n",
    "print(d)\n",
    "print(type(d))"
   ]
  },
  {
   "cell_type": "markdown",
   "id": "7b848430",
   "metadata": {},
   "source": [
    "LIST"
   ]
  },
  {
   "cell_type": "code",
   "execution_count": 10,
   "id": "ed9468de",
   "metadata": {},
   "outputs": [
    {
     "name": "stdout",
     "output_type": "stream",
     "text": [
      "['a', 'b', 'c']\n",
      "<class 'list'>\n"
     ]
    }
   ],
   "source": [
    "e = [\"a\",\"b\",\"c\"]\n",
    "print(e)\n",
    "print(type(e))"
   ]
  },
  {
   "cell_type": "markdown",
   "id": "b98edc75",
   "metadata": {},
   "source": [
    "TUPPLE"
   ]
  },
  {
   "cell_type": "code",
   "execution_count": 11,
   "id": "b72041f6",
   "metadata": {},
   "outputs": [
    {
     "name": "stdout",
     "output_type": "stream",
     "text": [
      "('a', 'b', 'c')\n",
      "<class 'tuple'>\n"
     ]
    }
   ],
   "source": [
    "f = (\"a\",\"b\",\"c\")\n",
    "print(f)\n",
    "print(type(f))"
   ]
  },
  {
   "cell_type": "markdown",
   "id": "472d74e6",
   "metadata": {},
   "source": [
    "RANGE"
   ]
  },
  {
   "cell_type": "code",
   "execution_count": 12,
   "id": "2ff0fc85",
   "metadata": {},
   "outputs": [
    {
     "name": "stdout",
     "output_type": "stream",
     "text": [
      "range(0, 5)\n",
      "<class 'range'>\n"
     ]
    }
   ],
   "source": [
    "g = range(5)\n",
    "print(g)\n",
    "print(type(g))"
   ]
  },
  {
   "cell_type": "markdown",
   "id": "c9864dd0",
   "metadata": {},
   "source": [
    "SET"
   ]
  },
  {
   "cell_type": "code",
   "execution_count": 13,
   "id": "cf2e8593",
   "metadata": {},
   "outputs": [
    {
     "name": "stdout",
     "output_type": "stream",
     "text": [
      "{'ani', 'budi'}\n",
      "<class 'set'>\n"
     ]
    }
   ],
   "source": [
    "h = {\"ani\", \"budi\"}\n",
    "print(h)\n",
    "print(type(h))"
   ]
  },
  {
   "cell_type": "markdown",
   "id": "5836c3b4",
   "metadata": {},
   "source": [
    "DICT"
   ]
  },
  {
   "cell_type": "code",
   "execution_count": 14,
   "id": "a98cbcaf",
   "metadata": {},
   "outputs": [
    {
     "name": "stdout",
     "output_type": "stream",
     "text": [
      "{'nama': 'ani'}\n",
      "<class 'dict'>\n"
     ]
    }
   ],
   "source": [
    "i = {\"nama\" : \"ani\"}\n",
    "print(i)\n",
    "print(type(i))"
   ]
  },
  {
   "cell_type": "markdown",
   "id": "2e12f9bf",
   "metadata": {},
   "source": [
    "FROZENSET"
   ]
  },
  {
   "cell_type": "code",
   "execution_count": 15,
   "id": "47fb1b85",
   "metadata": {},
   "outputs": [
    {
     "name": "stdout",
     "output_type": "stream",
     "text": [
      "frozenset({'ani', 'budi'})\n",
      "<class 'frozenset'>\n"
     ]
    }
   ],
   "source": [
    "j = frozenset({\"ani\", \"budi\"})\n",
    "print(j)\n",
    "print(type(j))"
   ]
  },
  {
   "cell_type": "markdown",
   "id": "44040ad2",
   "metadata": {},
   "source": [
    "BOOL"
   ]
  },
  {
   "cell_type": "code",
   "execution_count": 16,
   "id": "6a97e344",
   "metadata": {},
   "outputs": [
    {
     "name": "stdout",
     "output_type": "stream",
     "text": [
      "True\n",
      "<class 'bool'>\n"
     ]
    }
   ],
   "source": [
    "k = True\n",
    "print(k)\n",
    "print(type(k))"
   ]
  },
  {
   "cell_type": "markdown",
   "id": "e887ec72",
   "metadata": {},
   "source": [
    "BYTES"
   ]
  },
  {
   "cell_type": "code",
   "execution_count": 17,
   "id": "f89cc154",
   "metadata": {},
   "outputs": [
    {
     "name": "stdout",
     "output_type": "stream",
     "text": [
      "b'hello'\n",
      "<class 'bytes'>\n"
     ]
    }
   ],
   "source": [
    "l = b\"hello\"\n",
    "print(l)\n",
    "print(type(l))"
   ]
  },
  {
   "cell_type": "markdown",
   "id": "a95353f6",
   "metadata": {},
   "source": [
    "BYTE ARRAY"
   ]
  },
  {
   "cell_type": "code",
   "execution_count": 18,
   "id": "810d4eec",
   "metadata": {},
   "outputs": [
    {
     "name": "stdout",
     "output_type": "stream",
     "text": [
      "bytearray(b'\\x00\\x00\\x00\\x00\\x00')\n",
      "<class 'bytearray'>\n"
     ]
    }
   ],
   "source": [
    "m = bytearray(5)\n",
    "print(m)\n",
    "print(type(m))"
   ]
  },
  {
   "cell_type": "markdown",
   "id": "8c55a3dd",
   "metadata": {},
   "source": [
    "MEMORY VIEW"
   ]
  },
  {
   "cell_type": "code",
   "execution_count": 19,
   "id": "eacd624b",
   "metadata": {},
   "outputs": [
    {
     "name": "stdout",
     "output_type": "stream",
     "text": [
      "<memory at 0x7f8fa037a500>\n",
      "<class 'memoryview'>\n"
     ]
    }
   ],
   "source": [
    "n = memoryview(bytes(5))\n",
    "print(n)\n",
    "print(type(n))"
   ]
  },
  {
   "cell_type": "markdown",
   "id": "a9e64825",
   "metadata": {},
   "source": [
    "NONE"
   ]
  },
  {
   "cell_type": "code",
   "execution_count": 20,
   "id": "6ec96a58",
   "metadata": {},
   "outputs": [
    {
     "name": "stdout",
     "output_type": "stream",
     "text": [
      "None\n",
      "<class 'NoneType'>\n"
     ]
    }
   ],
   "source": [
    "o = None\n",
    "print(o)\n",
    "print(type(o))"
   ]
  }
 ],
 "metadata": {
  "kernelspec": {
   "display_name": "Python 3",
   "language": "python",
   "name": "python3"
  },
  "language_info": {
   "codemirror_mode": {
    "name": "ipython",
    "version": 3
   },
   "file_extension": ".py",
   "mimetype": "text/x-python",
   "name": "python",
   "nbconvert_exporter": "python",
   "pygments_lexer": "ipython3",
   "version": "3.12.3"
  }
 },
 "nbformat": 4,
 "nbformat_minor": 5
}
